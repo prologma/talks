{
 "cells": [
  {
   "cell_type": "markdown",
   "metadata": {
    "slideshow": {
     "slide_type": "slide"
    }
   },
   "source": [
    "<div align=\"center\"><h1>Applications of type theory in imperative programming languages</h1></div>\n",
    "\n",
    "<br>\n",
    "<br>\n",
    "\n",
    "<div align=\"center\"><h3>KAIST Complexity and Real Computation Laboratory Seminar</h3></div>\n",
    "<div align=\"center\"><h4>Nov. 19, 2020</h4></div>\n",
    "\n",
    "<br>\n",
    "\n",
    "<div align=\"center\"><h4>Gyesik Lee</h4></div>\n",
    "<div align=\"center\"><h4>Hankyong National University</h4></div>"
   ]
  },
  {
   "cell_type": "markdown",
   "metadata": {
    "slideshow": {
     "slide_type": "slide"
    }
   },
   "source": [
    "p.8 \n",
    "\n",
    "The book is aimed at graduate students, including both the general graduate population as well as students intending to specialize in programming language re- search. For the former, it should serve to introduce a number of key ideas from the design and analysis of programming languages, with type systems as an organizing structure. For the latter, it should provide sufficient background to proceed directly on to the research literature. The book is suitable for self-study by researchers in other areas who want to learn something about type systems, and should be a useful reference for experts. The first several chapters should be usable in upper-division undergraduate courses. "
   ]
  },
  {
   "cell_type": "markdown",
   "metadata": {
    "slideshow": {
     "slide_type": "slide"
    }
   },
   "source": [
    "p.13\n",
    "\n",
    "Proposed approaches to improving software quality include—among other ideas—a broad spectrum of techniques for helping ensure that a software system behaves correctly with respect to some specifica- tion, implicit or explicit, of its desired behavior. On one end of this spectrum are powerful frameworks such as algebraic specification languages, modal logics, and denotational semantics; these can be used to express very general correctness prop- erties but are cumbersome to use and demand significant involvement by the pro- grammer not only in the application domain but also in the formal subtleties of the framework itself. At the other end are techniques of much more limited power—so limited that they can be built into compilers or linkers and thus “applied” even by programmers unfamiliar with the underlying theories. Such methods often take the form of type systems. "
   ]
  },
  {
   "cell_type": "markdown",
   "metadata": {
    "slideshow": {
     "slide_type": "slide"
    }
   },
   "source": [
    "What is a type system?\n",
    "\n",
    "Type systems are generally formulated as collections of rules for checking the “con- sistency” of programs."
   ]
  },
  {
   "cell_type": "markdown",
   "metadata": {},
   "source": [
    "p.14\n",
    "\n",
    "distinction of programming languages into two parts\n",
    "\n",
    "* Untyped — programs simply execute flat out; there is no attempt to check \"consistency of shapes\"\n",
    "\n",
    "* Typed — some attempt is made, either at compile time or at run-time, to check shape-consistency"
   ]
  },
  {
   "cell_type": "markdown",
   "metadata": {
    "slideshow": {
     "slide_type": "slide"
    }
   },
   "source": [
    "Among typed languages, we can break things down further:\n",
    "\n",
    "| | Statically checked | Dynamically checked |\n",
    "|:--- | :--- | :--- |\n",
    "| Strongly typed | ML, Haskell, Pascall (almost), Java (almost) | List, Scheme |\n",
    "|Weakly typed | C, C++ | Perl |\n"
   ]
  },
  {
   "cell_type": "markdown",
   "metadata": {
    "slideshow": {
     "slide_type": "slide"
    }
   },
   "source": [
    "p.15\n",
    "\n",
    "In computer science, the earliest type systems, beginning in the 1950s (e.g., FORTRAN), were used to improve efficiency of numerical calculations by distin- guishing between natural-number-valued variables and arithmetic expressions and real-valued ones, allowing the compiler to use different representations and gen- erate appropriate machine instructions for arithmetic operations. In the late 1950s and early 1960s (e.g., ALGOL), the classification was extended to structured data (arrays of records, etc.) and higher-order functions. Beginning in the 1970s, these early foundations have been extended in many directions...\n",
    "\n",
    "* parametric polymorphism allows a single term to be used with many differ- ent types (e.g., the same sorting routine might be used to sort lists of natural numbers, lists of reals, lists of records, etc.), encouraging code reuse;\n",
    "* module systems support programming in the large by providing a frame- work for defining (and automatically checking) interfaces between the parts of a large software system;\n",
    "* subtyping and object types address the special needs of object-oriented pro- gramming styles;\n",
    "* connections are being developed between the type systems of programming languages, the specification languages used in program verification, and the formal logics used in theorem proving.\n"
   ]
  },
  {
   "cell_type": "markdown",
   "metadata": {
    "slideshow": {
     "slide_type": "slide"
    }
   },
   "source": [
    "p. 16\n",
    "\n",
    "## 1.3 Applications of Type Systems\n",
    "\n",
    "Beyond their traditional benefits of robustness and efficiency, type systems play an increasingly central role in computer and network security: static typing lies at the core of the security models of Java and JINI, for example, and is the main enabling technology for Proof-Carrying Code. Type systems are used to organize compilers, verify protocols, structure information on the web, and even model natural languages.\n",
    "\n",
    "Short sketches of some of these diverse applications...\n",
    "\n",
    "* In programming in the large (module systems, interface definition languages, etc.)\n",
    "* In compiling and optimization (static analyses, typed intermediate languages, typed assembly languages, etc.)\n",
    "* In “self-certification” of untrusted code (so-called “proof-carrying code” [NL96, Nec97, NL98])\n",
    "* In security\n",
    "* In theorem proving\n",
    "* In databases\n",
    "* In linguistics (categorial grammar [Ben95, vBM97, etc.] , and maybe something seminal by Lambek)\n",
    "* In Y2K conversion tools\n",
    "* DTDs and other “web metadata” (note from Henry Thompson: DTDs were origi- nally designed for SGML because of the expense of cancelling huge typesetting runs due to errors in the markup!)\n"
   ]
  },
  {
   "cell_type": "code",
   "execution_count": null,
   "metadata": {},
   "outputs": [],
   "source": []
  },
  {
   "cell_type": "code",
   "execution_count": null,
   "metadata": {},
   "outputs": [],
   "source": []
  },
  {
   "cell_type": "code",
   "execution_count": null,
   "metadata": {},
   "outputs": [],
   "source": []
  },
  {
   "cell_type": "markdown",
   "metadata": {
    "slideshow": {
     "slide_type": "slide"
    }
   },
   "source": [
    "# References"
   ]
  },
  {
   "cell_type": "markdown",
   "metadata": {
    "slideshow": {
     "slide_type": "slide"
    }
   },
   "source": [
    "1. Martín Abadi and Luca Cardelli. A Theory of Objects. Springer-Verlag, 1996.\n",
    "1. John C. Mitchell. Foundations for Programming Languages. The MIT Press, Cambridge, MA, 1996.\n",
    "1. Benjamin Pierce. Type systems for programming languages, preprint, 2000. http://ropas.snu.ac.kr/~kwang/520/pierce_book.pdf\n",
    "1. "
   ]
  }
 ],
 "metadata": {
  "celltoolbar": "Slideshow",
  "kernelspec": {
   "display_name": "Python 3",
   "language": "python",
   "name": "python3"
  },
  "language_info": {
   "codemirror_mode": {
    "name": "ipython",
    "version": 3
   },
   "file_extension": ".py",
   "mimetype": "text/x-python",
   "name": "python",
   "nbconvert_exporter": "python",
   "pygments_lexer": "ipython3",
   "version": "3.8.3"
  }
 },
 "nbformat": 4,
 "nbformat_minor": 4
}
