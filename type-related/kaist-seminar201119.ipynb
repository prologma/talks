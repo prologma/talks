{
 "cells": [
  {
   "cell_type": "markdown",
   "metadata": {
    "slideshow": {
     "slide_type": "slide"
    }
   },
   "source": [
    "<div align=\"center\"><h1>Applications of type theory in imperative programming languages</h1></div>\n",
    "\n",
    "<br>\n",
    "<br>\n",
    "\n",
    "<div align=\"center\"><h3>Complexity and Real Computation Seminar</h3></div>\n",
    "<div align=\"center\"><h4>KAIST, Nov. 19, 2020</h4></div>\n",
    "\n",
    "<br>\n",
    "\n",
    "<div align=\"center\"><h4>Gyesik Lee</h4></div>\n",
    "<div align=\"center\"><h4>Hankyong National University</h4></div>"
   ]
  },
  {
   "cell_type": "markdown",
   "metadata": {
    "slideshow": {
     "slide_type": "slide"
    }
   },
   "source": [
    "## Main reference"
   ]
  },
  {
   "cell_type": "markdown",
   "metadata": {},
   "source": [
    "* Didier Remy. Type systems for programming languages, lecture notes, 2020. http://cristal.inria.fr/~remy/mpri/cours.pdf"
   ]
  },
  {
   "cell_type": "markdown",
   "metadata": {
    "slideshow": {
     "slide_type": ""
    }
   },
   "source": [
    "# Overview"
   ]
  },
  {
   "cell_type": "markdown",
   "metadata": {
    "slideshow": {
     "slide_type": "slide"
    }
   },
   "source": [
    "### Untyped languages"
   ]
  },
  {
   "cell_type": "markdown",
   "metadata": {},
   "source": [
    "* Although all the programming languages we study are typed, their underlying computational model is the untyped λ-calculus That is, types can be dropped after type checking and before evaluation."
   ]
  },
  {
   "cell_type": "markdown",
   "metadata": {},
   "source": [
    "* Therefore, the course starts with a few reminders about the untyped λ-calculus, even though those are assumed to be known. We show how to extend the pure λ-calculus with constants and primitives and a few other constructs to make it a small programming lan- guage. This is also an opportunity to present source program transformations and compilation techniques for function languages, which do not depend much on types."
   ]
  },
  {
   "cell_type": "markdown",
   "metadata": {
    "slideshow": {
     "slide_type": "slide"
    }
   },
   "source": [
    "### Typed languages"
   ]
  },
  {
   "cell_type": "markdown",
   "metadata": {},
   "source": [
    "* Types play a central role in the design of modern programming lan- guages, so they also play a key role in this course. In fact, once we restrict our study to functional languages, the main differences between languages lie more often in the differences between their type systems than between other aspects of their design."
   ]
  },
  {
   "cell_type": "markdown",
   "metadata": {},
   "source": [
    "* Hence, the course is primarily structured around type systems. We remind the simply- typed λ-calculus, the simplest of type systems for functional languages, and show how to extend it with other fundamental constructs of programming languages."
   ]
  },
  {
   "cell_type": "markdown",
   "metadata": {},
   "source": [
    "* We introduce polymorphism with System F. We present ML as a restriction of System F for which type reconstruction is simple and efficient. We actually introduce a slight gener- alization HM(X) of ML to ease and generalize the study of type reconstruction for ML. We discuss techniques for type reconstruction in System F—but without formalizing the details."
   ]
  },
  {
   "cell_type": "markdown",
   "metadata": {},
   "source": [
    "* We present existential types, first in the context of System F, and then discuss their integration in ML."
   ]
  },
  {
   "cell_type": "markdown",
   "metadata": {},
   "source": [
    "* Finally, we study the problem of overloading. Overloading differs from other language constructs as the semantics of source programs depend on their types, even though types should be erased at runtime! We thus use overloading as an example of elaboration of source terms, whose semantics is typed, into an internal language, whose semantics is untyped."
   ]
  },
  {
   "cell_type": "markdown",
   "metadata": {
    "slideshow": {
     "slide_type": "slide"
    }
   },
   "source": [
    "### Subtyping"
   ]
  },
  {
   "cell_type": "markdown",
   "metadata": {},
   "source": [
    "* Semantic subtyping allows for very precise types that can be used to describe semi-structured data. "
   ]
  },
  {
   "cell_type": "markdown",
   "metadata": {
    "slideshow": {
     "slide_type": "slide"
    }
   },
   "source": [
    "### Towards program proofs"
   ]
  },
  {
   "cell_type": "markdown",
   "metadata": {},
   "source": [
    "* Types, as in ML or System F, ensure type soundness, i.e. that programs do not go wrong. However useful, this remains a weak property of programs. One often wishes to write more accurate specifications of the actual behavior of programs and prove the implementation correct with respect to them. Finer invariants of data-structures may be expressed within types using Generalized Algebraic Data Types (GADT); or one step further using dependent types. However, one may also describe the behavior of programs outside of proper types per se, by writing logic formulas as pre and post conditions, and verifying them mechanically, e.g. with a proof assistant. This spectrum of solutions will be presented by Yann Regis-Gianas."
   ]
  },
  {
   "cell_type": "markdown",
   "metadata": {},
   "source": [
    "### About Functional Programming"
   ]
  },
  {
   "cell_type": "markdown",
   "metadata": {},
   "source": [
    "* The term functional programming means various things. Functional programming views functions as ordinary data which, in particular, can be passed as arguments to other functions and stored in data structures."
   ]
  },
  {
   "cell_type": "markdown",
   "metadata": {},
   "source": [
    "* A common idea behind functional programming is that repetitive patterns can be ab- stracted away as functions that may be called several times so as to avoid code duplication. For this reason, functional programming also often loosely or strongly discourages the use of modifiable data, in favor of effect-free transformations of data. (In contrast, the main- stream object-oriented programming languages view objects as the primary kind of data and encourage the use of modifiable data.)"
   ]
  },
  {
   "cell_type": "markdown",
   "metadata": {},
   "source": [
    "* Functional programming languages are traditionally typed (Scheme and Erlang are ex- ceptions) and have close connections with logic. We will focus on typed languages. Because functional programming puts emphasis on reusability and sharing multiple uses of the same code, even in different contexts, they require and make heavy use of polymorphism; when programming in the large, abstraction over implementation details relies on an expressive module system. Types unquestionably play a central role, as explained next."
   ]
  },
  {
   "cell_type": "markdown",
   "metadata": {},
   "source": [
    "* Functional programming languages are usually given a precise and formal semantics de- rived from the one of the λ-calculus. The semantics of languages differ in that some are strict (ML) and some are lazy (Haskell) Hughes (1989). This difference has a large impact on the language design and on the programming style, but has usually little impact on typing."
   ]
  },
  {
   "cell_type": "markdown",
   "metadata": {},
   "source": [
    "* Functional programming languages are usually sequential languages, whose model of evaluation is not concurrent, even if core languages may then be extended with primitives to support concurrency."
   ]
  },
  {
   "cell_type": "markdown",
   "metadata": {
    "slideshow": {
     "slide_type": "slide"
    }
   },
   "source": [
    "## About Types"
   ]
  },
  {
   "cell_type": "markdown",
   "metadata": {},
   "source": [
    "* A type is a concise, formal description of the behavior of a program fragment. For instance, int describes an expression that evaluates to an integer; int → bool describes a function that maps an integer argument to a boolean result; (int → bool) → (list int → list int) describes a function that maps an integer predicate to an integer list transformer."
   ]
  },
  {
   "cell_type": "markdown",
   "metadata": {},
   "source": [
    "* Types must be sound. That is, programs must behave as prescribed by their types. Hence, types must be checked and ill-typed programs must be rejected."
   ]
  },
  {
   "cell_type": "markdown",
   "metadata": {},
   "source": [
    "* Types are useful for quite different reasons: They first serve as machine-checked docu- mentation. More importantly, they provide a safety guarantee. As stated by Milner (1978), “Well-typed expressions do not go wrong.” Advanced type systems can also guarantee vari- ous forms of security, resource usage, complexity, etc. Types encourage separate compilation, modularity, and abstraction. Reynolds (1983) said: “Type structure is a syntactic discipline for enforcing levels of abstraction.” Types can be abstract. Even seemingly non-abstract types offer a degree of abstraction. For example, a function type does not tell how a function is represented at the machine level. Types can also be used to drive compiler optimizations."
   ]
  },
  {
   "cell_type": "markdown",
   "metadata": {},
   "source": [
    "* Type-checking is compositional: type-checking an application depends on the type of the function and the type of the argument and not on their code. This is a key to modularity and code maintenance: replacing a function by another one of the same type will preserve well-typedness of the whole program."
   ]
  },
  {
   "cell_type": "markdown",
   "metadata": {},
   "source": [
    "### Type-preserving compilation "
   ]
  },
  {
   "cell_type": "markdown",
   "metadata": {},
   "source": [
    "* Types make sense in low-level programming languages as well—even assembly languages can be statically typed! as first popularized by Morrisett et al. (1999). In a type-preserving compiler, every intermediate language is typed, and every compilation phase maps typed programs to typed programs. Preserving types provides in- sight into a transformation, helps debug it, and paves the way to a semantics preservation proof (Chlipala, 2007). Interestingly enough, lower-level programming languages often re- quire richer type systems than their high-level counterparts."
   ]
  },
  {
   "cell_type": "markdown",
   "metadata": {},
   "source": [
    "### Typed or untyped? "
   ]
  },
  {
   "cell_type": "markdown",
   "metadata": {},
   "source": [
    "* Reynolds (1985) nicely sums up a long and rather acrimonious de- bate: “One side claims that untyped languages preclude compile-time error checking and are succinct to the point of unintelligibility, while the other side claims that typed languages preclude a variety of powerful programming techniques and are verbose to the point of un- intelligibility.” A sound type system with decidable type-checking (and possibly decidable type inference) must be conservative."
   ]
  },
  {
   "cell_type": "markdown",
   "metadata": {},
   "source": [
    "* Later, Reynolds also settles the debate: “From the theorist’s point of view, both sides are right, and their arguments are the motivation for seeking type systems that are more flexible and succinct than those of existing typed languages.”"
   ]
  },
  {
   "cell_type": "markdown",
   "metadata": {},
   "source": [
    "* Today, the question is rather whether to use basic types (e.g. as in ML or System F) or sophiscated types (e.g. with dependent types, logical assertions, afine types, capabililties and ownership, etc.) or full program proofs as in the compcert project (Leroy, 2006)!"
   ]
  },
  {
   "cell_type": "markdown",
   "metadata": {},
   "source": [
    "### Explicit v.s. implicit types? "
   ]
  },
  {
   "cell_type": "markdown",
   "metadata": {},
   "source": [
    "* The typed v.s. untyped flavor of a programming language should not be confused with the question of whether types of a programming language are explicit or implicit."
   ]
  },
  {
   "cell_type": "markdown",
   "metadata": {},
   "source": [
    "* Annotating programs with types can lead to a lot of redundancies. Types can even become extremely cumbersome when they have to be explicitly and repeatedly provided. In some pathological cases, they may even increase the size of source terms non linearly. This creates a need for a certain degree of type reconstruction (also called type inference), where the source program may contain some—but not all—type information."
   ]
  },
  {
   "cell_type": "markdown",
   "metadata": {},
   "source": [
    "* When the semantics is untyped, i.e. types could in principle be entirely left implicit, even if the language is typed. A well-typed program is then one that is the type erasure of a (well-typed) explicitly-typed program. However, full type reconstruction is undecidable for expressive type systems, leading to partial type reconstruction algorithms."
   ]
  },
  {
   "cell_type": "markdown",
   "metadata": {},
   "source": [
    "* An important issue with type reconstruction is its robustness to small program changes. Because type systems are compositional, a type inference problem can often be expressed as a constraint solving problem, where constraints are made up of predicates about types, conjunction, and existential quantification."
   ]
  },
  {
   "cell_type": "markdown",
   "metadata": {
    "slideshow": {
     "slide_type": "slide"
    }
   },
   "source": [
    "# The untyped $\\lambda$-calculus"
   ]
  },
  {
   "cell_type": "markdown",
   "metadata": {},
   "source": [
    "* In this course, λ-calculus is the underlying computational language. The λ-calculus supports natural encodings of many programming languages (Landin, 1965), and as such provides a suitable setting for studying type systems. Following Church’s thesis, any Turing-complete language can be used to encode any programming language. However, these encodings might not be natural or simple enough to help us in understanding their typing discipline. Using λ- calculus, most of our results can also be applied to other languages (Java, assembly language, etc.)."
   ]
  },
  {
   "cell_type": "markdown",
   "metadata": {},
   "source": [
    "* The untyped λ-calculus and its extension with the main constructs of programming lan- guages have been presented in the first part of the course taught by Xavier Leroy. Hereafter, we just recall some of the notations and concepts used in our part of the course."
   ]
  },
  {
   "cell_type": "markdown",
   "metadata": {},
   "source": [
    "## Syntax"
   ]
  },
  {
   "cell_type": "markdown",
   "metadata": {},
   "source": [
    "#### $\\lambda$-terms"
   ]
  },
  {
   "cell_type": "markdown",
   "metadata": {},
   "source": [
    "<div align=\"center\"><img src=\"./images/kaist-11.png\" width=\"170\"/></div>"
   ]
  },
  {
   "cell_type": "markdown",
   "metadata": {},
   "source": [
    "* The “. . . ” is just a place holder for more term constructs that will be introduced later on."
   ]
  },
  {
   "cell_type": "markdown",
   "metadata": {},
   "source": [
    "<div align=\"center\"><img src=\"./images/kaist-12.png\" width=\"170\"/></div>"
   ]
  },
  {
   "cell_type": "markdown",
   "metadata": {},
   "source": [
    "<div align=\"center\"><img src=\"./images/kaist-13.png\" width=\"240\"/></div>"
   ]
  },
  {
   "cell_type": "markdown",
   "metadata": {},
   "source": [
    "* $\\lambda x.a$ binds variable $x$ in $a$."
   ]
  },
  {
   "cell_type": "markdown",
   "metadata": {},
   "source": [
    "* Terms are considered equal up to the renaming of bound variables."
   ]
  },
  {
   "cell_type": "markdown",
   "metadata": {},
   "source": [
    "$$\n",
    "\\lambda x_1. \\lambda x_2. x_1 (x_1 x_2) \\equiv \\lambda y.\\lambda x. y(y x)\n",
    "$$"
   ]
  },
  {
   "cell_type": "markdown",
   "metadata": {},
   "source": [
    "* Convention: $x_1 \\neq x_2$ and $x \\neq y$"
   ]
  },
  {
   "cell_type": "markdown",
   "metadata": {
    "slideshow": {
     "slide_type": "slide"
    }
   },
   "source": [
    "## Semantics"
   ]
  },
  {
   "cell_type": "markdown",
   "metadata": {},
   "source": [
    "* The semantics of the λ-calculus is given by a small-step operational semantics, i.e. a reduc- tion relation between λ-terms. It is also called the dynamic semantics since it describes the behavior of programs at runtime, i.e. when programs are executed."
   ]
  },
  {
   "cell_type": "markdown",
   "metadata": {
    "slideshow": {
     "slide_type": "slide"
    }
   },
   "source": [
    "### Weak reduction strategies"
   ]
  },
  {
   "cell_type": "markdown",
   "metadata": {
    "slideshow": {
     "slide_type": "slide"
    }
   },
   "source": [
    "##### Call-by-value"
   ]
  },
  {
   "cell_type": "markdown",
   "metadata": {},
   "source": [
    "* A strategy where arguments are reduced before being substituted for the formal parameter of functions."
   ]
  },
  {
   "cell_type": "markdown",
   "metadata": {
    "slideshow": {
     "slide_type": "slide"
    }
   },
   "source": [
    "##### Call-by-name"
   ]
  },
  {
   "cell_type": "markdown",
   "metadata": {},
   "source": [
    "* A strategy that delays the evaluation of arguments until they are actually used."
   ]
  },
  {
   "cell_type": "markdown",
   "metadata": {
    "slideshow": {
     "slide_type": "slide"
    }
   },
   "source": [
    "##### Call-by-need"
   ]
  },
  {
   "cell_type": "markdown",
   "metadata": {},
   "source": [
    "* A strategy, which as call-by-name delays the evaluation of arguments, but as call-by-value shares this evaluation: that is, the occurrence of an argument that is used requires its evaluation, but all other occurrences of the argument see the result of the evaluation and do not have to reevaluate the argument if needed. "
   ]
  },
  {
   "cell_type": "markdown",
   "metadata": {},
   "source": [
    "* This is however more delicate to formalize and one often uses call-by-name semantics as an approximation of call-by-need semantics."
   ]
  },
  {
   "cell_type": "markdown",
   "metadata": {
    "slideshow": {
     "slide_type": "slide"
    }
   },
   "source": [
    "#### Call-by-value semantics"
   ]
  },
  {
   "cell_type": "markdown",
   "metadata": {},
   "source": [
    "* When explaining references, exceptions, or other forms of side effects, this choice matters. Otherwise, most of the type-theoretic machinery applies to call-by-name or call-by-need—actually to any weak reduction strategy—just as well."
   ]
  },
  {
   "cell_type": "markdown",
   "metadata": {
    "slideshow": {
     "slide_type": "slide"
    }
   },
   "source": [
    "##### values"
   ]
  },
  {
   "cell_type": "markdown",
   "metadata": {},
   "source": [
    "$$\n",
    "v ::= \\lambda x.a \\mid \\dots\n",
    "$$"
   ]
  },
  {
   "cell_type": "markdown",
   "metadata": {
    "slideshow": {
     "slide_type": "slide"
    }
   },
   "source": [
    "##### Reduction relation"
   ]
  },
  {
   "cell_type": "markdown",
   "metadata": {},
   "source": [
    "* $a_1 \\to a_2$ is inductively defined:"
   ]
  },
  {
   "cell_type": "markdown",
   "metadata": {},
   "source": [
    "<div align=\"center\"><img src=\"./images/kaist-14.png\" width=\"400\"/></div>"
   ]
  },
  {
   "cell_type": "markdown",
   "metadata": {},
   "source": [
    "* $[x \\mapsto V]$ is the capture avoiding substitution of $V$ for $x$. "
   ]
  },
  {
   "cell_type": "markdown",
   "metadata": {},
   "source": [
    "* We write $[x \\mapsto V ]a$ its application to a term $a$. "
   ]
  },
  {
   "cell_type": "markdown",
   "metadata": {
    "slideshow": {
     "slide_type": "slide"
    }
   },
   "source": [
    "##### Call-by-value evaluation contexts"
   ]
  },
  {
   "cell_type": "markdown",
   "metadata": {},
   "source": [
    "$$\n",
    "e ::= [\\,]\\, a \\mid v\\, [\\,] \\mid ...\n",
    "$$"
   ]
  },
  {
   "cell_type": "markdown",
   "metadata": {
    "slideshow": {
     "slide_type": "slide"
    }
   },
   "source": [
    "### Recursion"
   ]
  },
  {
   "cell_type": "markdown",
   "metadata": {},
   "source": [
    "* Recursion is inherent in $\\lambda$-calculus, \n",
    "    hence reduction may not terminate. For example, the term \n",
    "\n",
    "    $$\\Delta = (\\lambda x. x x) (\\lambda x. x x)$$\n",
    "    \n",
    "    reduces to itself, and so may reduce forever."
   ]
  },
  {
   "cell_type": "markdown",
   "metadata": {},
   "source": [
    "* A slight variation on $\\Delta$ is \n",
    "    the fix-point combinator $Y$ , defined as \n",
    "    \n",
    "    $$\\lambda g. (λx. x x) (λz. g (z z))$$"
   ]
  },
  {
   "cell_type": "markdown",
   "metadata": {},
   "source": [
    "* Whenever applied to a functional $G$, \n",
    "    it reduces in a few steps to $G (Y G)$, \n",
    "    which is not yet a value. "
   ]
  },
  {
   "cell_type": "markdown",
   "metadata": {},
   "source": [
    "* In a call-by-value setting, this term actually reduces \n",
    "    forever—before even performing any interesting computation step. "
   ]
  },
  {
   "cell_type": "markdown",
   "metadata": {},
   "source": [
    "* Therefore, we instead use its $\\eta$-expanded version $Z$ \n",
    "    that guards the duplication of the generator $G$:\n",
    "\n",
    "    $$Z = \\lambda g.(\\lambda x.x x) (λ\\lambda.g (\\lambda v.z z v))$$"
   ]
  },
  {
   "cell_type": "markdown",
   "metadata": {
    "slideshow": {
     "slide_type": "slide"
    }
   },
   "source": [
    "# Simply-typed lambda-calculus"
   ]
  },
  {
   "cell_type": "markdown",
   "metadata": {},
   "source": [
    "* It is an introduction to typed languages."
   ]
  },
  {
   "cell_type": "markdown",
   "metadata": {},
   "source": [
    "* But we will see many factors of (imperative) programming languages."
   ]
  },
  {
   "cell_type": "markdown",
   "metadata": {
    "slideshow": {
     "slide_type": "slide"
    }
   },
   "source": [
    "## Syntax"
   ]
  },
  {
   "cell_type": "markdown",
   "metadata": {},
   "source": [
    "##### terms"
   ]
  },
  {
   "cell_type": "markdown",
   "metadata": {},
   "source": [
    "$$\n",
    "M ::= x \\mid \\lambda x:\\tau. M \\mid M\\, M\\mid \\dots\n",
    "$$"
   ]
  },
  {
   "cell_type": "markdown",
   "metadata": {},
   "source": [
    "##### types"
   ]
  },
  {
   "cell_type": "markdown",
   "metadata": {},
   "source": [
    "$$\n",
    "\\tau ::= \\alpha \\mid \\tau -> \\tau \\mid \\dots\n",
    "$$"
   ]
  },
  {
   "cell_type": "markdown",
   "metadata": {
    "slideshow": {
     "slide_type": "slide"
    }
   },
   "source": [
    "## Dynamic semantics"
   ]
  },
  {
   "cell_type": "markdown",
   "metadata": {},
   "source": [
    "##### Values"
   ]
  },
  {
   "cell_type": "markdown",
   "metadata": {},
   "source": [
    "$$\n",
    "V ::= \\lambda x:\\tau. M \\mid \\dots\n",
    "$$"
   ]
  },
  {
   "cell_type": "markdown",
   "metadata": {},
   "source": [
    "##### Equation contexts"
   ]
  },
  {
   "cell_type": "markdown",
   "metadata": {},
   "source": [
    "$$\n",
    "E ::= [\\,]\\, M \\mid V \\, [\\,] \\mid \\dots\n",
    "$$"
   ]
  },
  {
   "cell_type": "markdown",
   "metadata": {},
   "source": [
    "##### Reduction relation"
   ]
  },
  {
   "cell_type": "markdown",
   "metadata": {},
   "source": [
    "* $M_1 \\to M_2$ is inductively defined by"
   ]
  },
  {
   "cell_type": "markdown",
   "metadata": {},
   "source": [
    "<div align=\"center\"><img src=\"./images/kaist-15.png\" width=\"400\"/></div>"
   ]
  },
  {
   "cell_type": "markdown",
   "metadata": {},
   "source": [
    "* The semantics of simply-typed λ-calculus is obviously type erasing."
   ]
  },
  {
   "cell_type": "markdown",
   "metadata": {
    "slideshow": {
     "slide_type": "slide"
    }
   },
   "source": [
    "## Type system"
   ]
  },
  {
   "cell_type": "markdown",
   "metadata": {},
   "source": [
    "* Not all syntactically well-formed programs are accepted—only well-typed programs are. "
   ]
  },
  {
   "cell_type": "markdown",
   "metadata": {},
   "source": [
    "* Well-typedness is defined as a 3-place predicate \n",
    "\n",
    "    $$\\Gamma \\vdash M ∶ \\tau$$\n",
    "    \n",
    "    called a typing judgment."
   ]
  },
  {
   "cell_type": "markdown",
   "metadata": {},
   "source": [
    "* The typing context $\\Gamma$ is a finite sequence of binding of \n",
    "    program variables to types.\n",
    "    \n",
    "    $$\n",
    "    \\Gamma = x_1:\\tau_1, \\dots, x_n:\\tau_n\n",
    "    $$\n",
    "    \n",
    "    where $x_1, \\dots, x_n$ are mutually different."
   ]
  },
  {
   "cell_type": "markdown",
   "metadata": {},
   "source": [
    "* If $x:\\tau \\in \\Gamma$, we write $\\Gamma(x) = \\tau$."
   ]
  },
  {
   "cell_type": "markdown",
   "metadata": {
    "slideshow": {
     "slide_type": "slide"
    }
   },
   "source": [
    "#### Typing judgments"
   ]
  },
  {
   "cell_type": "markdown",
   "metadata": {},
   "source": [
    "* Typing judgments are defined inductively by the following inference rules:"
   ]
  },
  {
   "cell_type": "markdown",
   "metadata": {},
   "source": [
    "<div align=\"center\"><img src=\"./images/kaist-16.png\" width=\"500\"/></div>"
   ]
  },
  {
   "cell_type": "markdown",
   "metadata": {},
   "source": [
    "* the definition is syntax-directed. That is, at most one rule applies for an expression; hence, the shape of the derivation tree for proving a judgment Γ ⊢ M ∶ τ is fully determined by the shape of the expression M. This is not true of all type systems."
   ]
  },
  {
   "cell_type": "markdown",
   "metadata": {
    "slideshow": {
     "slide_type": "slide"
    }
   },
   "source": [
    "#### Typing derivation"
   ]
  },
  {
   "cell_type": "markdown",
   "metadata": {},
   "source": [
    "* Typing derivation is a proof tree that witnesses the validity of a typing judgment: each node is the application of a typing rule."
   ]
  },
  {
   "cell_type": "markdown",
   "metadata": {},
   "source": [
    "*  proof tree is either a single node composed of an axiom (a typing rule without premises) or a typing rule with as many proof-subtrees as typing judgment premises."
   ]
  },
  {
   "cell_type": "markdown",
   "metadata": {
    "slideshow": {
     "slide_type": "slide"
    }
   },
   "source": [
    "##### Examples"
   ]
  },
  {
   "cell_type": "markdown",
   "metadata": {},
   "source": [
    "* The derivation below is valid for any choice of τ1 and τ2:"
   ]
  },
  {
   "cell_type": "markdown",
   "metadata": {},
   "source": [
    "<div align=\"center\"><img src=\"./images/kaist-17.png\" width=\"500\"/></div>"
   ]
  },
  {
   "cell_type": "markdown",
   "metadata": {
    "slideshow": {
     "slide_type": "slide"
    }
   },
   "source": [
    "## Type soundness"
   ]
  },
  {
   "cell_type": "markdown",
   "metadata": {},
   "source": [
    "#### Theorem (Type Soundness)\n",
    "\n",
    "Well-typed expressions do not go wrong, i.e., they don't reduce to a stuck term."
   ]
  },
  {
   "cell_type": "markdown",
   "metadata": {},
   "source": [
    "* The proof of type soundness is by combination of Subject Reduction\n",
    "    and Progress."
   ]
  },
  {
   "cell_type": "markdown",
   "metadata": {},
   "source": [
    "#### Theorem (Subject reduction)\n",
    "\n",
    "Reduction preserves types: if $M_1 \\to M_2$, then for any type $τ$ such that $\\emptyset \\vdash M_1 ∶ \\tau$, we also have $\\emptyset \\vdash M_2 ∶ \\tau$."
   ]
  },
  {
   "cell_type": "markdown",
   "metadata": {},
   "source": [
    "#### Theorem (Progress)\n",
    "\n",
    "A well-typed, closed term is either reducible or a value: \n",
    "\n",
    "if $\\emptyset \\vdash M ∶ \\tau$, then there exists $M′$ such that \n",
    "$M \\to M′$ or $M$ is a value."
   ]
  },
  {
   "cell_type": "markdown",
   "metadata": {},
   "source": [
    "* A closed, well-typed irreducible term is a value."
   ]
  },
  {
   "cell_type": "markdown",
   "metadata": {},
   "source": [
    "* Progress also says that no stuck term is well-typed. "
   ]
  },
  {
   "cell_type": "markdown",
   "metadata": {
    "slideshow": {
     "slide_type": "slide"
    }
   },
   "source": [
    "#### Main points of the Subject reduction"
   ]
  },
  {
   "cell_type": "markdown",
   "metadata": {},
   "source": [
    "#### Lemma (Value substitution)\n",
    "\n",
    "If $x ∶ \\tau, \\Gamma \\vdash M ∶ \\tau_0$ and \n",
    "$\\emptyset \\vdash V ∶ \\tau$, \n",
    "then $\\Gamma \\vdash [x \\mapsto V ] M ∶ \\tau_0$."
   ]
  },
  {
   "cell_type": "markdown",
   "metadata": {},
   "source": [
    "#### Lemma (Weakening)\n",
    "\n",
    "If $\\Gamma \\vdash M ∶ \\tau$ and $y \\not\\in dom(\\Gamma)$, \n",
    "then $\\Gamma, y ∶ \\tau′ \\vdash M ∶ \\tau$."
   ]
  },
  {
   "cell_type": "markdown",
   "metadata": {},
   "source": [
    "#### Lemma (Compositionality)\n",
    "\n",
    "If $\\emptyset \\vdash E[M] ∶ \\tau$, \n",
    "then there exists $\\tau′$ such that: \n",
    "\n",
    "* $\\emptyset \\vdash M ∶ \\tau′$, and\n",
    "* for every term $M′$ such that $\\emptyset \\vdash M′ ∶ τ′$,\n",
    "    we have $\\emptyset \\vdash E[M′] ∶ \\tau$."
   ]
  },
  {
   "cell_type": "markdown",
   "metadata": {
    "slideshow": {
     "slide_type": "slide"
    }
   },
   "source": [
    "### Soundness versus completeness"
   ]
  },
  {
   "cell_type": "markdown",
   "metadata": {},
   "source": [
    "* Because the $\\lambda$-calculus is a Turing-complete programming language, whether a program goes wrong is an undecidable property. "
   ]
  },
  {
   "cell_type": "markdown",
   "metadata": {},
   "source": [
    "* As a consequence, any sound, decidable type system must be incomplete, that is, it must reject some valid programs."
   ]
  },
  {
   "cell_type": "markdown",
   "metadata": {},
   "source": [
    "* In case of simply-typed lambda calculus, \n",
    "    only polynomial functions with case distinction can be defined.\n",
    "    (H. Schwichtenberg, 1976)"
   ]
  },
  {
   "cell_type": "markdown",
   "metadata": {
    "slideshow": {
     "slide_type": "slide"
    }
   },
   "source": [
    "## Simple Extensions"
   ]
  },
  {
   "cell_type": "markdown",
   "metadata": {},
   "source": [
    "* We introduce simple extensions to the calculus, mainly adding new constants and new primitives. "
   ]
  },
  {
   "cell_type": "markdown",
   "metadata": {
    "slideshow": {
     "slide_type": "slide"
    }
   },
   "source": [
    "### Unit"
   ]
  },
  {
   "cell_type": "markdown",
   "metadata": {},
   "source": [
    "* We just introduce a new type `unit` and a constant value `()` of that type."
   ]
  },
  {
   "cell_type": "markdown",
   "metadata": {},
   "source": [
    "<div align=\"center\"><img src=\"./images/kaist-18.png\" width=\"450\"/></div>"
   ]
  },
  {
   "cell_type": "markdown",
   "metadata": {},
   "source": [
    "* Reduction rules are unchanged, since `()` is already a value. "
   ]
  },
  {
   "cell_type": "markdown",
   "metadata": {},
   "source": [
    "* The following typing rule is introduced:"
   ]
  },
  {
   "cell_type": "markdown",
   "metadata": {},
   "source": [
    "<div align=\"center\"><img src=\"./images/kaist-19.png\" width=\"100\"/></div>"
   ]
  },
  {
   "cell_type": "markdown",
   "metadata": {},
   "source": [
    "* Several computer programming languages provide a unit type to specify the result type of a function with the sole purpose of causing a side effect, and the argument type of a function that does not require arguments."
   ]
  },
  {
   "cell_type": "markdown",
   "metadata": {},
   "source": [
    "* Haskell: `():()`\n",
    "* Python: `None:NoneType`\n",
    "* JavaScript: `null` and `undefined` are built-in unit types.\n",
    "* C, Java: `void` simulates some roles of unit type."
   ]
  },
  {
   "cell_type": "markdown",
   "metadata": {
    "slideshow": {
     "slide_type": "slide"
    }
   },
   "source": [
    "### Boolean"
   ]
  },
  {
   "cell_type": "markdown",
   "metadata": {},
   "source": [
    "* New values and terms"
   ]
  },
  {
   "cell_type": "markdown",
   "metadata": {},
   "source": [
    "<div align=\"center\"><img src=\"./images/kaist-20.png\" width=\"500\"/></div>"
   ]
  },
  {
   "cell_type": "markdown",
   "metadata": {},
   "source": [
    "* New evaluation contexts"
   ]
  },
  {
   "cell_type": "markdown",
   "metadata": {},
   "source": [
    "<div align=\"center\"><img src=\"./images/kaist-21.png\" width=\"250\"/></div>"
   ]
  },
  {
   "cell_type": "markdown",
   "metadata": {},
   "source": [
    "* New reductions rules"
   ]
  },
  {
   "cell_type": "markdown",
   "metadata": {},
   "source": [
    "<div align=\"center\"><img src=\"./images/kaist-22.png\" width=\"500\"/></div>"
   ]
  },
  {
   "cell_type": "markdown",
   "metadata": {},
   "source": [
    "* New types"
   ]
  },
  {
   "cell_type": "markdown",
   "metadata": {},
   "source": [
    "<div align=\"center\"><img src=\"./images/kaist-23.png\" width=\"120\"/></div>"
   ]
  },
  {
   "cell_type": "markdown",
   "metadata": {},
   "source": [
    "* New typing rules"
   ]
  },
  {
   "cell_type": "markdown",
   "metadata": {},
   "source": [
    "<div align=\"center\"><img src=\"./images/kaist-24.png\" width=\"600\"/></div>"
   ]
  },
  {
   "cell_type": "markdown",
   "metadata": {
    "slideshow": {
     "slide_type": "slide"
    }
   },
   "source": [
    "### Pairs"
   ]
  },
  {
   "cell_type": "markdown",
   "metadata": {},
   "source": [
    "<div align=\"center\"><img src=\"./images/kaist-25.png\" width=\"550\"/></div>"
   ]
  },
  {
   "cell_type": "markdown",
   "metadata": {},
   "source": [
    "<div align=\"center\"><img src=\"./images/kaist-26.png\" width=\"150\"/></div>"
   ]
  },
  {
   "cell_type": "markdown",
   "metadata": {},
   "source": [
    "<div align=\"center\"><img src=\"./images/kaist-27.png\" width=\"550\"/></div>"
   ]
  },
  {
   "cell_type": "markdown",
   "metadata": {
    "slideshow": {
     "slide_type": "slide"
    }
   },
   "source": [
    "### Sums"
   ]
  },
  {
   "cell_type": "markdown",
   "metadata": {},
   "source": [
    "<div align=\"center\"><img src=\"./images/kaist-28.png\" width=\"600\"/></div>"
   ]
  },
  {
   "cell_type": "markdown",
   "metadata": {},
   "source": [
    "<div align=\"center\"><img src=\"./images/kaist-29.png\" width=\"220\"/></div>"
   ]
  },
  {
   "cell_type": "markdown",
   "metadata": {},
   "source": [
    "<div align=\"center\"><img src=\"./images/kaist-30.png\" width=\"120\"/></div>"
   ]
  },
  {
   "cell_type": "markdown",
   "metadata": {},
   "source": [
    "<div align=\"center\"><img src=\"./images/kaist-31.png\" width=600\"/></div>"
   ]
  },
  {
   "cell_type": "markdown",
   "metadata": {
    "slideshow": {
     "slide_type": "slide"
    }
   },
   "source": [
    "### Recursion functions"
   ]
  },
  {
   "cell_type": "markdown",
   "metadata": {},
   "source": [
    "<div align=\"center\"><img src=\"./images/kaist-32.png\" width=\"450\"/></div>"
   ]
  },
  {
   "cell_type": "markdown",
   "metadata": {},
   "source": [
    "<div align=\"center\"><img src=\"./images/kaist-33.png\" width=\"370\"/></div>"
   ]
  },
  {
   "cell_type": "markdown",
   "metadata": {},
   "source": [
    "<div align=\"center\"><img src=\"./images/kaist-34.png\" width=\"270\"/></div>"
   ]
  },
  {
   "cell_type": "markdown",
   "metadata": {
    "slideshow": {
     "slide_type": "slide"
    }
   },
   "source": [
    "### let-bindings"
   ]
  },
  {
   "cell_type": "markdown",
   "metadata": {},
   "source": [
    "* The let-binding construct \n",
    "    \"$\\textsf{let } x ∶ \\tau = M_1 \\textsf{ in } M_2$\" \n",
    "    can be viewed as syntactic sugar for the $\\beta$-redex \n",
    "    \n",
    "    $$(\\lambda x∶\\tau.M_2) M_1$$"
   ]
  },
  {
   "cell_type": "markdown",
   "metadata": {},
   "source": [
    "* The corresponding derived rule:"
   ]
  },
  {
   "cell_type": "markdown",
   "metadata": {},
   "source": [
    "<div align=\"center\"><img src=\"./images/kaist-35.png\" width=\"250\"/></div>"
   ]
  },
  {
   "cell_type": "markdown",
   "metadata": {
    "slideshow": {
     "slide_type": "slide"
    }
   },
   "source": [
    "### Sequences"
   ]
  },
  {
   "cell_type": "markdown",
   "metadata": {},
   "source": [
    "* The sequence \"$M1;M2$\" is a derived construct of let-bindings\n",
    "\n",
    "    $$\n",
    "    \\textsf{let } x ∶ \\text{unit} = M_1 \\textsf{ in } M_2\n",
    "    $$\n",
    "    \n",
    "    where $x$ is fresh."
   ]
  },
  {
   "cell_type": "markdown",
   "metadata": {
    "slideshow": {
     "slide_type": "slide"
    }
   },
   "source": [
    "## Exceptions"
   ]
  },
  {
   "cell_type": "markdown",
   "metadata": {},
   "source": [
    "* Exceptions are a mechanism for changing the normal order of evaluation."
   ]
  },
  {
   "cell_type": "markdown",
   "metadata": {},
   "source": [
    "* When an exception is raised, the evaluation does not continue as usual: Shortcutting normal evaluation rules, the exception is propagated up into the evaluation context until some handler is found at which the evaluation resumes with the exceptional value received; if no handler is found, the exception reaches the toplevel and the result of the evaluation is the exception instead of a value."
   ]
  },
  {
   "cell_type": "markdown",
   "metadata": {
    "slideshow": {
     "slide_type": "slide"
    }
   },
   "source": [
    "### Syntax"
   ]
  },
  {
   "cell_type": "markdown",
   "metadata": {},
   "source": [
    "<div align=\"center\"><img src=\"./images/kaist-36.png\" width=\"550\"/></div>"
   ]
  },
  {
   "cell_type": "markdown",
   "metadata": {
    "slideshow": {
     "slide_type": "slide"
    }
   },
   "source": [
    "### Semantics"
   ]
  },
  {
   "cell_type": "markdown",
   "metadata": {},
   "source": [
    "<div align=\"center\"><img src=\"./images/kaist-37.png\" width=\"650\"/></div>"
   ]
  },
  {
   "cell_type": "markdown",
   "metadata": {
    "slideshow": {
     "slide_type": "slide"
    }
   },
   "source": [
    "##### Examples"
   ]
  },
  {
   "cell_type": "markdown",
   "metadata": {},
   "source": [
    "Assume that $K = \\lambda x. \\lambda y. y$ and $M \\to V$. \n",
    "We have the following reduction:"
   ]
  },
  {
   "cell_type": "markdown",
   "metadata": {},
   "source": [
    "<div align=\"center\"><img src=\"./images/kaist-38.png\" width=\"500\"/></div>"
   ]
  },
  {
   "cell_type": "markdown",
   "metadata": {
    "slideshow": {
     "slide_type": "slide"
    }
   },
   "source": [
    "### Typing rules"
   ]
  },
  {
   "cell_type": "markdown",
   "metadata": {},
   "source": [
    "* Let `exn` be a fixed type for exceptional values."
   ]
  },
  {
   "cell_type": "markdown",
   "metadata": {},
   "source": [
    "<div align=\"center\"><img src=\"./images/kaist-39.png\" width=\"450\"/></div>"
   ]
  },
  {
   "cell_type": "markdown",
   "metadata": {
    "slideshow": {
     "slide_type": "slide"
    }
   },
   "source": [
    "#### Type of exceptions"
   ]
  },
  {
   "cell_type": "markdown",
   "metadata": {},
   "source": [
    "* What can we choose for exn? Well, any type could do. Choosing unit, exceptions would carry no information. Choosing int, exceptions would carry an integer that could be used, e.g., to report some error code. Choosing string, exceptions would carry a string that could be used to report error messages. Or better, exception could be of a sum type to allow any of these alternatives to be chosen when the exception is raised."
   ]
  },
  {
   "cell_type": "markdown",
   "metadata": {
    "slideshow": {
     "slide_type": "slide"
    }
   },
   "source": [
    "#### Type soundness"
   ]
  },
  {
   "cell_type": "markdown",
   "metadata": {},
   "source": [
    "#### Theorem (Progress)\n",
    "\n",
    "A well-typed, irreducible closed term is either a value\n",
    "or an uncaught exception: \n",
    "\n",
    "if $\\emptyset \\vdash M ∶ \\tau$ and $M \\not\\to $, then $M$ is either \n",
    "a value $v$ or $\\textsf{raise } v$ for some value $v$."
   ]
  },
  {
   "cell_type": "markdown",
   "metadata": {
    "slideshow": {
     "slide_type": "slide"
    }
   },
   "source": [
    "#### Remark"
   ]
  },
  {
   "cell_type": "markdown",
   "metadata": {},
   "source": [
    "Not all well-typed closed programs terminate in the presence of exceptions."
   ]
  },
  {
   "cell_type": "markdown",
   "metadata": {},
   "source": [
    "##### Examples"
   ]
  },
  {
   "cell_type": "markdown",
   "metadata": {},
   "source": [
    "* Let $\\textsf{exn} = (\\textsf{unit} \\to \\textsf{unit}) \\to(\\textsf{unit} \\to \\textsf{unit})$."
   ]
  },
  {
   "cell_type": "markdown",
   "metadata": {},
   "source": [
    "<div align=\"center\"><img src=\"./images/kaist-40.png\" width=\"450\"/></div>"
   ]
  },
  {
   "cell_type": "markdown",
   "metadata": {},
   "source": [
    "* Then $\\omega \\, (\\textsf{fold }\\omega)$ does not terminate, where\n",
    "\n",
    "    $$\n",
    "    \\omega = \\lambda x.(\\textsf{unfold }x)\\, x\n",
    "    $$"
   ]
  },
  {
   "cell_type": "markdown",
   "metadata": {
    "slideshow": {
     "slide_type": "slide"
    }
   },
   "source": [
    "## References"
   ]
  },
  {
   "cell_type": "markdown",
   "metadata": {
    "slideshow": {
     "slide_type": "slide"
    }
   },
   "source": [
    "### Syntax"
   ]
  },
  {
   "cell_type": "markdown",
   "metadata": {},
   "source": [
    "* Terms and evaluations"
   ]
  },
  {
   "cell_type": "markdown",
   "metadata": {},
   "source": [
    "<div align=\"center\"><img src=\"./images/kaist-41.png\" width=\"530\"/></div>"
   ]
  },
  {
   "cell_type": "markdown",
   "metadata": {},
   "source": [
    "* Terms for memory locations"
   ]
  },
  {
   "cell_type": "markdown",
   "metadata": {},
   "source": [
    "<div align=\"center\"><img src=\"./images/kaist-42.png\" width=\"320\"/></div>"
   ]
  },
  {
   "cell_type": "markdown",
   "metadata": {},
   "source": [
    "### Semantics"
   ]
  },
  {
   "cell_type": "markdown",
   "metadata": {},
   "source": [
    "#### Store(memory)"
   ]
  },
  {
   "cell_type": "markdown",
   "metadata": {},
   "source": [
    "* The value found at a location l is obtained by indirection through a store (or memory)."
   ]
  },
  {
   "cell_type": "markdown",
   "metadata": {},
   "source": [
    "* A memory $\\mu$ is a finite mapping of locations to closed values. "
   ]
  },
  {
   "cell_type": "markdown",
   "metadata": {},
   "source": [
    "* A configuration is a pair $M\\, /\\, \\mu$ of a term and a store. "
   ]
  },
  {
   "cell_type": "markdown",
   "metadata": {},
   "source": [
    "* The operational semantics (given next) reduces configurations instead of expressions."
   ]
  },
  {
   "cell_type": "markdown",
   "metadata": {},
   "source": [
    "##### No-dangling-pointers invariant"
   ]
  },
  {
   "cell_type": "markdown",
   "metadata": {},
   "source": [
    "* The locations that appear in M or in the image of $\\mu$ are in the domain of $\\mu$."
   ]
  },
  {
   "cell_type": "markdown",
   "metadata": {},
   "source": [
    "#### Reduction"
   ]
  },
  {
   "cell_type": "markdown",
   "metadata": {},
   "source": [
    "<div align=\"center\"><img src=\"./images/kaist-43.png\" width=\"420\"/></div>"
   ]
  },
  {
   "cell_type": "markdown",
   "metadata": {},
   "source": [
    "<div align=\"center\"><img src=\"./images/kaist-44.png\" width=\"330\"/></div>"
   ]
  },
  {
   "cell_type": "markdown",
   "metadata": {},
   "source": [
    "### Type system"
   ]
  },
  {
   "cell_type": "markdown",
   "metadata": {},
   "source": [
    "* New types"
   ]
  },
  {
   "cell_type": "markdown",
   "metadata": {},
   "source": [
    "<div align=\"center\"><img src=\"./images/kaist-45.png\" width=\"150\"/></div>"
   ]
  },
  {
   "cell_type": "markdown",
   "metadata": {},
   "source": [
    "* New typing rules"
   ]
  },
  {
   "cell_type": "markdown",
   "metadata": {},
   "source": [
    "<div align=\"center\"><img src=\"./images/kaist-46.png\" width=\"600\"/></div>"
   ]
  },
  {
   "cell_type": "markdown",
   "metadata": {},
   "source": [
    "* Typing rules for memory locations and configurations"
   ]
  },
  {
   "cell_type": "markdown",
   "metadata": {},
   "source": [
    "* Typing judgments now have the form \n",
    "\n",
    "    $$\n",
    "    \\Sigma, \\Gamma \\vdash M : \\tau\n",
    "    $$\n",
    "\n",
    "    where $\\Sigma$ is a store mapping."
   ]
  },
  {
   "cell_type": "markdown",
   "metadata": {},
   "source": [
    "<div align=\"center\"><img src=\"./images/kaist-47.png\" width=\"150\"/></div>"
   ]
  },
  {
   "cell_type": "markdown",
   "metadata": {},
   "source": [
    "<div align=\"center\"><img src=\"./images/kaist-48.png\" width=\"550\"/></div>"
   ]
  },
  {
   "cell_type": "markdown",
   "metadata": {
    "slideshow": {
     "slide_type": "slide"
    }
   },
   "source": [
    "### Type soundness"
   ]
  },
  {
   "cell_type": "markdown",
   "metadata": {},
   "source": [
    "* The type soundness statements are slightly modified in the presence of the store, since we now reduce configurations."
   ]
  },
  {
   "cell_type": "markdown",
   "metadata": {},
   "source": [
    "#### Theorem (Subject reduction)\n",
    "\n",
    "Reduction preserves types: \n",
    "\n",
    "if $M\\,/\\, \\mu \\to M'\\, / \\, \\mu'$\n",
    "and $\\vdash M\\, /\\, \\mu ∶ \\tau$, \n",
    "then $ \\vdash M'\\, /\\, \\mu'∶ \\tau$."
   ]
  },
  {
   "cell_type": "markdown",
   "metadata": {},
   "source": [
    "#### Theorem (Progress)\n",
    "\n",
    "If $M\\, / \\mu$ is a well-typed, irreducible configuration, \n",
    "then $M$ is a value."
   ]
  },
  {
   "cell_type": "markdown",
   "metadata": {},
   "source": []
  },
  {
   "cell_type": "markdown",
   "metadata": {},
   "source": []
  },
  {
   "cell_type": "markdown",
   "metadata": {},
   "source": []
  },
  {
   "cell_type": "markdown",
   "metadata": {},
   "source": []
  },
  {
   "cell_type": "markdown",
   "metadata": {},
   "source": []
  },
  {
   "cell_type": "markdown",
   "metadata": {
    "slideshow": {
     "slide_type": "slide"
    }
   },
   "source": [
    "# References"
   ]
  },
  {
   "cell_type": "markdown",
   "metadata": {
    "slideshow": {
     "slide_type": "slide"
    }
   },
   "source": [
    "1. Martín Abadi and Luca Cardelli. A Theory of Objects. Springer-Verlag, 1996.\n",
    "1. John C. Mitchell. Foundations for Programming Languages. The MIT Press, Cambridge, MA, 1996.\n",
    "1. Benjamin Pierce. Type systems for programming languages, preprint, 2000. http://ropas.snu.ac.kr/~kwang/520/pierce_book.pdf\n",
    "1. Didier Remy. Type systems for programming languages, lecture notes, 2020. http://cristal.inria.fr/~remy/mpri/cours.pdf"
   ]
  }
 ],
 "metadata": {
  "celltoolbar": "Slideshow",
  "kernelspec": {
   "display_name": "Python 3",
   "language": "python",
   "name": "python3"
  },
  "language_info": {
   "codemirror_mode": {
    "name": "ipython",
    "version": 3
   },
   "file_extension": ".py",
   "mimetype": "text/x-python",
   "name": "python",
   "nbconvert_exporter": "python",
   "pygments_lexer": "ipython3",
   "version": "3.7.6"
  }
 },
 "nbformat": 4,
 "nbformat_minor": 4
}
